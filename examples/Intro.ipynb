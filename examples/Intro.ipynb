{
 "cells": [
  {
   "cell_type": "markdown",
   "metadata": {},
   "source": [
    "# Modeling dynamics of FS Peptide\n",
    "This example shows a typical, basic usage of MSMBuilder to model dynamics of a protein system. "
   ]
  },
  {
   "cell_type": "markdown",
   "metadata": {},
   "source": [
    "### MSMBuilder includes example datasets\n",
    "The following cell downloads an example protein dataset to `~/msmbuilder_data`. In practice, you will generate your own dataset by running molecular dynamics (MD) on your system of interest. MSMBuilder does not run MD."
   ]
  },
  {
   "cell_type": "code",
   "execution_count": null,
   "metadata": {
    "collapsed": false
   },
   "outputs": [],
   "source": [
    "# Download example dataset\n",
    "from msmbuilder.example_datasets import FsPeptide\n",
    "fs_peptide = FsPeptide()\n",
    "fs_peptide.cache()"
   ]
  },
  {
   "cell_type": "code",
   "execution_count": null,
   "metadata": {
    "collapsed": true
   },
   "outputs": [],
   "source": [
    "# Work in a temporary directory\n",
    "import tempfile\n",
    "import os\n",
    "os.chdir(tempfile.mkdtemp())"
   ]
  },
  {
   "cell_type": "markdown",
   "metadata": {},
   "source": [
    "### The `dataset` object\n",
    "MD datasets are usually quite large. It doesn't make sense to load everything into memory at once. The `dataset` object lazily-loads trajectories as they are needed. Below, we create a dataset out of the 28 `*.xtc` files we downloaded above."
   ]
  },
  {
   "cell_type": "code",
   "execution_count": null,
   "metadata": {
    "collapsed": false
   },
   "outputs": [],
   "source": [
    "from msmbuilder.dataset import dataset\n",
    "xyz = dataset(fs_peptide.data_dir + \"/*.xtc\",\n",
    "              topology=fs_peptide.data_dir + '/fs_peptide.pdb')\n",
    "len(xyz)"
   ]
  },
  {
   "cell_type": "markdown",
   "metadata": {},
   "source": [
    "### Featurization\n",
    "The raw `(x, y, z)` coordinates from the simulation do not respect the translational and rotational symmetry of our problem. A `Featurizer` transforms cartesian coordinates into other representations. Here we use the `DihedralFeaturizer` to turn our data into phi and psi dihedral angles. Observe that the `264*3`-dimensional space is reduced to 84 dimensions"
   ]
  },
  {
   "cell_type": "code",
   "execution_count": null,
   "metadata": {
    "collapsed": false
   },
   "outputs": [],
   "source": [
    "from msmbuilder.featurizer import DihedralFeaturizer\n",
    "featurizer = DihedralFeaturizer(types=['phi', 'psi'])\n",
    "diheds = xyz.fit_transform_with(featurizer, 'diheds/', fmt='dir-npy')\n",
    "\n",
    "print(xyz[0].xyz.shape)\n",
    "print(diheds[0].shape)"
   ]
  },
  {
   "cell_type": "markdown",
   "metadata": {},
   "source": [
    "### Intermediate kinetic model: tICA\n",
    "`tICA` is similar to principal component analysis (see \"tICA vs. PCA\" example). Note that the 84-dimensional space is reduced to 4 dimensions."
   ]
  },
  {
   "cell_type": "code",
   "execution_count": null,
   "metadata": {
    "collapsed": false
   },
   "outputs": [],
   "source": [
    "from msmbuilder.decomposition import tICA\n",
    "tica_model = tICA(lag_time=1, n_components=4)\n",
    "# fit and transform can be done in seperate steps:\n",
    "tica_model = diheds.fit_with(tica_model)\n",
    "tica_trajs = diheds.transform_with(tica_model, 'ticas/', fmt='dir-npy')\n",
    "\n",
    "print(diheds[0].shape)\n",
    "print(tica_trajs[0].shape)"
   ]
  },
  {
   "cell_type": "markdown",
   "metadata": {},
   "source": [
    "### tICA Heatmap\n",
    "We can histogram our data projecting along the two slowest degrees of freedom (as found by tICA)"
   ]
  },
  {
   "cell_type": "code",
   "execution_count": null,
   "metadata": {
    "collapsed": false
   },
   "outputs": [],
   "source": [
    "%matplotlib inline\n",
    "from matplotlib import pyplot as plt\n",
    "import numpy as np\n",
    "txx = np.concatenate(tica_trajs)\n",
    "plt.hexbin(txx[:,0], txx[:,1], bins='log', mincnt=1)"
   ]
  },
  {
   "cell_type": "markdown",
   "metadata": {},
   "source": [
    "### Clustering\n",
    "Conformations need to be clustered into states (sometimes written as microstates). We cluster based on the tICA projections to group conformations that interconvert rapidly. Note that we transform our trajectories from the 4-dimensional tICA space into a 1-dimensional cluster index."
   ]
  },
  {
   "cell_type": "code",
   "execution_count": null,
   "metadata": {
    "collapsed": false
   },
   "outputs": [],
   "source": [
    "from msmbuilder.cluster import MiniBatchKMeans\n",
    "clusterer = MiniBatchKMeans(n_clusters=100)\n",
    "clustered_trajs = tica_trajs.fit_transform_with(clusterer,\n",
    "                                                'kmeans/',\n",
    "                                                fmt='dir-npy')\n",
    "\n",
    "print(tica_trajs[0].shape)\n",
    "print(clustered_trajs[0].shape)"
   ]
  },
  {
   "cell_type": "code",
   "execution_count": null,
   "metadata": {
    "collapsed": false
   },
   "outputs": [],
   "source": [
    "plt.hexbin(txx[:,0], txx[:,1], bins='log', mincnt=1)\n",
    "plt.scatter(clusterer.cluster_centers_[:,0],\n",
    "            clusterer.cluster_centers_[:,1], \n",
    "            s=100, c='w')"
   ]
  },
  {
   "cell_type": "markdown",
   "metadata": {},
   "source": [
    "### MSM\n",
    "We can construct an MSM from the labeled trajectories"
   ]
  },
  {
   "cell_type": "code",
   "execution_count": null,
   "metadata": {
    "collapsed": false
   },
   "outputs": [],
   "source": [
    "from msmbuilder.msm import MarkovStateModel\n",
    "from msmbuilder.utils import dump\n",
    "msm = MarkovStateModel(lag_time=5)\n",
    "msm.fit(clustered_trajs)"
   ]
  },
  {
   "cell_type": "code",
   "execution_count": null,
   "metadata": {
    "collapsed": false
   },
   "outputs": [],
   "source": [
    "plt.hexbin(txx[:,0], txx[:,1], bins='log', mincnt=1, cmap=\"Greys\")\n",
    "plt.scatter(clusterer.cluster_centers_[:,0],\n",
    "            clusterer.cluster_centers_[:,1],\n",
    "            s=1e4 * msm.populations_, # size by population\n",
    "            c=msm.left_eigenvectors_[:,1], # color by eigenvector\n",
    "            cmap=\"RdBu\") \n",
    "plt.colorbar(label='First dynamical eigenvector')\n",
    "plt.xlabel('tIC 1')\n",
    "plt.ylabel('tIC 2')\n",
    "plt.tight_layout()"
   ]
  },
  {
   "cell_type": "markdown",
   "metadata": {},
   "source": [
    "## Macrostate Model"
   ]
  },
  {
   "cell_type": "code",
   "execution_count": null,
   "metadata": {
    "collapsed": false
   },
   "outputs": [],
   "source": [
    "from msmbuilder.lumping import PCCAPlus\n",
    "pcca = PCCAPlus.from_msm(msm, n_macrostates=5)\n",
    "macro_trajs = pcca.transform(clustered_trajs)"
   ]
  },
  {
   "cell_type": "code",
   "execution_count": null,
   "metadata": {
    "collapsed": false
   },
   "outputs": [],
   "source": [
    "plt.hexbin(txx[:,0], txx[:,1], bins='log', mincnt=1, cmap=\"Greys\")\n",
    "plt.scatter(clusterer.cluster_centers_[:,0],\n",
    "            clusterer.cluster_centers_[:,1],\n",
    "            s=100,\n",
    "            c=pcca.microstate_mapping_,\n",
    "      )\n",
    "plt.xlabel('tIC 1')\n",
    "plt.ylabel('tIC 2')"
   ]
  },
  {
   "cell_type": "code",
   "execution_count": null,
   "metadata": {
    "collapsed": true
   },
   "outputs": [],
   "source": []
  }
 ],
 "metadata": {
  "kernelspec": {
   "display_name": "Python",
   "language": "python",
   "name": "python"
  },
  "language_info": {
   "codemirror_mode": {
    "name": "ipython",
    "version": 3
   },
   "file_extension": ".py",
   "mimetype": "text/x-python",
   "name": "python",
   "nbconvert_exporter": "python",
   "pygments_lexer": "ipython3",
   "version": "3.4.3"
  }
 },
 "nbformat": 4,
 "nbformat_minor": 0
}
