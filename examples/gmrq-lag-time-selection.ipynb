{
 "metadata": {
  "name": "",
  "signature": "sha256:456978035657437f2087e3771bcde57e46e98aea80667e1ecc3e4e73ee144a2e"
 },
 "nbformat": 3,
 "nbformat_minor": 0,
 "worksheets": [
  {
   "cells": [
    {
     "cell_type": "code",
     "collapsed": false,
     "input": [
      "import numpy as np\n",
      "import warnings\n",
      "import matplotlib.pyplot as pp\n",
      "from mdtraj.utils import timing\n",
      "from msmbuilder.cluster import NDGrid\n",
      "from msmbuilder.example_datasets import QuadWell\n",
      "from msmbuilder.msm import ContinuousTimeMSM\n",
      "from msmbuilder.utils import param_sweep"
     ],
     "language": "python",
     "metadata": {},
     "outputs": []
    },
    {
     "cell_type": "code",
     "collapsed": false,
     "input": [
      "# ContinuousTimeMSM is currently experiment. This prints a warning message when\n",
      "# you use it, which we can suppress because it makes the output hard to read."
     ],
     "language": "python",
     "metadata": {},
     "outputs": []
    },
    {
     "cell_type": "code",
     "collapsed": false,
     "input": [
      "from msmbuilder.utils.compat import ExperimentalWarning\n",
      "warnings.simplefilter('ignore', ExperimentalWarning)"
     ],
     "language": "python",
     "metadata": {},
     "outputs": []
    },
    {
     "cell_type": "code",
     "collapsed": false,
     "input": [
      "n_states = 25\n",
      "training_set = QuadWell(random_state=0)\n",
      "training_data = NDGrid(n_states).fit_transform(training_set.get()['trajectories'])\n",
      "print(training_data[0])"
     ],
     "language": "python",
     "metadata": {},
     "outputs": []
    },
    {
     "cell_type": "code",
     "collapsed": false,
     "input": [
      "lag_times = np.arange(5, 100, 5)\n",
      "models = []\n",
      "guess = ContinuousTimeMSM(lag_time=1).fit(training_data).ratemat_\n",
      "with timing():\n",
      "    for l in lag_times:\n",
      "        model = ContinuousTimeMSM(lag_time=l, n_timescales=3, guess_ratemat=guess)\n",
      "        model.fit(training_data)\n",
      "        models.append(model)"
     ],
     "language": "python",
     "metadata": {},
     "outputs": []
    },
    {
     "cell_type": "code",
     "collapsed": false,
     "input": [
      "test_set = QuadWell(random_state=1)\n",
      "test_data = NDGrid(n_states).fit_transform(test_set.get()['trajectories'])\n",
      "with timing():\n",
      "    test_scores = [m.score(test_data) for m in models]\n",
      "    train_scores = [m.score(training_data) for m in models]"
     ],
     "language": "python",
     "metadata": {},
     "outputs": []
    },
    {
     "cell_type": "code",
     "collapsed": false,
     "input": [
      "sigma_ts = []\n",
      "with timing():\n",
      "    for m in models:\n",
      "        sigma_ts.append(m.uncertainty_timescales())"
     ],
     "language": "python",
     "metadata": {},
     "outputs": []
    },
    {
     "cell_type": "code",
     "collapsed": false,
     "input": [
      "pp.figure(figsize=(12,4))\n",
      "best = lag_times[np.argmax(test_scores)]\n",
      "pp.subplot(1,2,1, axisbg='white')\n",
      "pp.plot(lag_times, test_scores, 'bx-', label='test')\n",
      "pp.plot(lag_times, train_scores, 'rx-', label='train')\n",
      "pp.axvline(best, c='grey', label='best=%.1f' % best)\n",
      "pp.legend(loc=3)\n",
      "pp.title('Train / Test GMRQ')\n",
      "pp.ylabel('Rate matrix GMRQ')\n",
      "pp.xlabel('Lag time')\n",
      "\n",
      "pp.subplot(1,2,2, axisbg='white')\n",
      "for i in range(3):\n",
      "    pp.errorbar(lag_times, [m.timescales_[i] for m in models], [2*sigma[i] for sigma in sigma_ts], marker='x')\n",
      "pp.title('Training set implied timescales')\n",
      "pp.ylabel('Implied timescale')\n",
      "pp.xlabel('Lag time')"
     ],
     "language": "python",
     "metadata": {},
     "outputs": []
    },
    {
     "cell_type": "code",
     "collapsed": false,
     "input": [],
     "language": "python",
     "metadata": {},
     "outputs": []
    }
   ],
   "metadata": {}
  }
 ]
}