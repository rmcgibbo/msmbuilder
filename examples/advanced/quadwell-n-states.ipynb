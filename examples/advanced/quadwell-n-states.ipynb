{
 "cells": [
  {
   "cell_type": "markdown",
   "metadata": {},
   "source": [
    "This example demonstrates the use of randomized search to select the number of states via cross validation, using sklearn's `RandomizedSearchCV`."
   ]
  },
  {
   "cell_type": "code",
   "execution_count": null,
   "metadata": {
    "collapsed": false
   },
   "outputs": [],
   "source": [
    "from __future__ import print_function\n",
    "%matplotlib inline\n",
    "import numpy as np\n",
    "import matplotlib.pyplot as plt\n",
    "import scipy.stats.distributions\n",
    "from msmbuilder.example_datasets import load_quadwell\n",
    "from msmbuilder.example_datasets import quadwell_eigs\n",
    "from msmbuilder.cluster import NDGrid\n",
    "from msmbuilder.msm import MarkovStateModel\n",
    "from sklearn.pipeline import Pipeline\n",
    "from sklearn.grid_search import RandomizedSearchCV"
   ]
  },
  {
   "cell_type": "code",
   "execution_count": null,
   "metadata": {
    "collapsed": false
   },
   "outputs": [],
   "source": [
    "pipeline = Pipeline([\n",
    "    ('grid', NDGrid(min=-1.2, max=1.2)),\n",
    "    ('msm', MarkovStateModel(n_timescales=3, reversible_type='transpose', verbose=False)),\n",
    "])\n",
    "\n",
    "true_gmrq4 = quadwell_eigs(250)[0][:4].sum()"
   ]
  },
  {
   "cell_type": "code",
   "execution_count": null,
   "metadata": {
    "collapsed": false
   },
   "outputs": [],
   "source": [
    "search = RandomizedSearchCV(pipeline, n_iter=10, cv=3, refit=False, param_distributions={\n",
    "    'grid__n_bins_per_feature': scipy.stats.distributions.randint(10, 500),\n",
    "})\n",
    "\n",
    "# take only the first 500 data points from each trajectory.\n",
    "# this will create a smaller dataset that's easier to overfit,\n",
    "# by using too many states\n",
    "dataset = [t[0:500] for t in load_quadwell().trajectories]\n",
    "search.fit(dataset)"
   ]
  },
  {
   "cell_type": "code",
   "execution_count": null,
   "metadata": {
    "collapsed": false
   },
   "outputs": [],
   "source": [
    "scores = np.array([[np.mean(e.cv_validation_scores),\n",
    "                    np.std(e.cv_validation_scores),\n",
    "                    e.parameters['grid__n_bins_per_feature']]\n",
    "                   for e in search.grid_scores_])\n",
    "\n",
    "plt.scatter(scores[:,2], scores[:, 0])\n",
    "plt.plot(plt.xlim(), [search.best_score_]*2, 'k-.', label='best')\n",
    "\n",
    "plt.plot(plt.xlim(), [true_gmrq4]*2, 'k-', label='true')\n",
    "print('Best params:', search.best_params_)\n",
    "plt.legend(loc=4)\n",
    "plt.show()"
   ]
  }
 ],
 "metadata": {
  "kernelspec": {
   "display_name": "Python 3",
   "language": "python",
   "name": "python3"
  },
  "language_info": {
   "codemirror_mode": {
    "name": "ipython",
    "version": 3
   },
   "file_extension": ".py",
   "mimetype": "text/x-python",
   "name": "python",
   "nbconvert_exporter": "python",
   "pygments_lexer": "ipython3",
   "version": "3.4.3"
  }
 },
 "nbformat": 4,
 "nbformat_minor": 0
}
