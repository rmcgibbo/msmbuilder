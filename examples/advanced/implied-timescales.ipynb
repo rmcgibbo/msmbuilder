{
 "cells": [
  {
   "cell_type": "code",
   "execution_count": null,
   "metadata": {
    "collapsed": false
   },
   "outputs": [],
   "source": [
    "%matplotlib inline\n",
    "import numpy as np\n",
    "import matplotlib.pyplot as pp\n",
    "from msmbuilder.example_datasets import fetch_alanine_dipeptide\n",
    "from msmbuilder.cluster import KCenters\n",
    "from msmbuilder.msm import ContinuousTimeMSM, MarkovStateModel\n",
    "from msmbuilder.msm import implied_timescales"
   ]
  },
  {
   "cell_type": "code",
   "execution_count": null,
   "metadata": {
    "collapsed": false
   },
   "outputs": [],
   "source": [
    "trajectories = fetch_alanine_dipeptide()['trajectories']\n",
    "heavy_inds = trajectories[0].topology.select_atom_indices('heavy')\n",
    "trajectories = [t.atom_slice(heavy_inds) for t in trajectories]"
   ]
  },
  {
   "cell_type": "code",
   "execution_count": null,
   "metadata": {
    "collapsed": false
   },
   "outputs": [],
   "source": [
    "cluster = KCenters(metric='rmsd', n_clusters=25)\n",
    "sequences = cluster.fit_transform(trajectories)\n",
    "print(cluster.summarize())"
   ]
  },
  {
   "cell_type": "code",
   "execution_count": null,
   "metadata": {
    "collapsed": false
   },
   "outputs": [],
   "source": [
    "lag_times = [1, 4, 8, 12]\n",
    "n_timescales = 10"
   ]
  },
  {
   "cell_type": "code",
   "execution_count": null,
   "metadata": {
    "collapsed": false
   },
   "outputs": [],
   "source": [
    "msm_timescales = implied_timescales(sequences, lag_times, n_timescales=n_timescales, msm=MarkovStateModel(verbose=False))\n",
    "for i in range(n_timescales):\n",
    "   pp.plot(lag_times, msm_timescales[:, i], 'o-')\n",
    "\n",
    "pp.title('Discrete-time MSM Relaxation Timescales')\n",
    "pp.semilogy()\n",
    "pp.show()"
   ]
  },
  {
   "cell_type": "code",
   "execution_count": null,
   "metadata": {
    "collapsed": false
   },
   "outputs": [],
   "source": [
    "ctmsm_timescales = implied_timescales(sequences, lag_times, n_timescales=n_timescales, msm=ContinuousTimeMSM(verbose=False))\n",
    "for i in range(n_timescales):\n",
    "   pp.plot(lag_times, ctmsm_timescales[:, i], 'o-')\n",
    "\n",
    "pp.title('Continuous-Time MSM Relaxation Timescales')\n",
    "pp.semilogy()\n",
    "pp.show()"
   ]
  },
  {
   "cell_type": "code",
   "execution_count": null,
   "metadata": {
    "collapsed": true
   },
   "outputs": [],
   "source": []
  }
 ],
 "metadata": {
  "kernelspec": {
   "display_name": "Python 3",
   "language": "python",
   "name": "python3"
  },
  "language_info": {
   "codemirror_mode": {
    "name": "ipython",
    "version": 3
   },
   "file_extension": ".py",
   "mimetype": "text/x-python",
   "name": "python",
   "nbconvert_exporter": "python",
   "pygments_lexer": "ipython3",
   "version": "3.4.3"
  }
 },
 "nbformat": 4,
 "nbformat_minor": 0
}
