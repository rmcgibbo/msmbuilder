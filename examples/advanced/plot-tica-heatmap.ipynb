{
 "cells": [
  {
   "cell_type": "markdown",
   "metadata": {},
   "source": [
    "In this example, we plot a 2D projection of a protein dynamics dataset computed\n",
    "with `tICA`. The example also demonstrates the use of a `Pipeline` object to\n",
    "combine a featurizer (`AtomPairsFeaturizer`) and an estimator (`tICA`)."
   ]
  },
  {
   "cell_type": "code",
   "execution_count": null,
   "metadata": {
    "collapsed": false
   },
   "outputs": [],
   "source": [
    "from __future__ import print_function\n",
    "%matplotlib inline\n",
    "import numpy as np\n",
    "from matplotlib import pyplot as plt\n",
    "from matplotlib.colors import LogNorm\n",
    "\n",
    "from msmbuilder.decomposition import tICA\n",
    "from msmbuilder.example_datasets import fetch_met_enkephalin\n",
    "from msmbuilder.featurizer import AtomPairsFeaturizer\n",
    "from sklearn.pipeline import Pipeline"
   ]
  },
  {
   "cell_type": "code",
   "execution_count": null,
   "metadata": {
    "collapsed": false
   },
   "outputs": [],
   "source": [
    "dataset = fetch_met_enkephalin()\n",
    "print(dataset.DESCR)"
   ]
  },
  {
   "cell_type": "code",
   "execution_count": null,
   "metadata": {
    "collapsed": false
   },
   "outputs": [],
   "source": [
    "def fit_and_plot(pipeline, trajectories):\n",
    "    transformed = pipeline.fit_transform(trajectories)\n",
    "    transformed = np.concatenate(transformed)\n",
    "\n",
    "    print('Eiegenvaue sum', pipeline.named_steps['tica'].eigenvalues_.sum())\n",
    "\n",
    "    x = transformed[:, 0]\n",
    "    y = transformed[:, 1]\n",
    "\n",
    "    plt.axes(axisbg='w')\n",
    "    plt.grid(False)\n",
    "    plt.hist2d(x, y, bins=100, cmap='hot_r', norm=LogNorm())\n",
    "    plt.xlabel('1st tIC')\n",
    "    plt.ylabel('2nd tIC')\n",
    "    plt.title('tICA Heatmap (log color scale)')\n",
    "    plt.colorbar()"
   ]
  },
  {
   "cell_type": "code",
   "execution_count": null,
   "metadata": {
    "collapsed": false
   },
   "outputs": [],
   "source": [
    "# Get all pairs of non-hydrogen atoms\n",
    "from itertools import combinations\n",
    "heavy_atoms = dataset.trajectories[0].topology.select_atom_indices('heavy')\n",
    "heavy_pairs = list(combinations(heavy_atoms, 2))\n",
    "\n",
    " \n",
    "pipeline1 = Pipeline([\n",
    "    ('feat', AtomPairsFeaturizer(heavy_pairs)),\n",
    "    ('tica', tICA(gamma=0, n_components=2)),\n",
    "])\n",
    "\n",
    "fit_and_plot(pipeline1, dataset.trajectories)"
   ]
  },
  {
   "cell_type": "code",
   "execution_count": null,
   "metadata": {
    "collapsed": true
   },
   "outputs": [],
   "source": []
  }
 ],
 "metadata": {
  "kernelspec": {
   "display_name": "Python 3",
   "language": "python",
   "name": "python3"
  },
  "language_info": {
   "codemirror_mode": {
    "name": "ipython",
    "version": 3
   },
   "file_extension": ".py",
   "mimetype": "text/x-python",
   "name": "python",
   "nbconvert_exporter": "python",
   "pygments_lexer": "ipython3",
   "version": "3.4.3"
  }
 },
 "nbformat": 4,
 "nbformat_minor": 0
}
