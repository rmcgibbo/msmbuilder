{
 "cells": [
  {
   "cell_type": "markdown",
   "metadata": {},
   "source": [
    "This example demonstrates the use of `BayesianMarkovStateModel` and `ContinuousTimeMSM` for\n",
    "estimating the uncertainty in the equilibrium probability distribution (e.g. free energy) and\n",
    "relaxation timescales in a Markov state model."
   ]
  },
  {
   "cell_type": "code",
   "execution_count": null,
   "metadata": {
    "collapsed": false
   },
   "outputs": [],
   "source": [
    "%matplotlib inline\n",
    "import numpy as np\n",
    "import matplotlib.pyplot as pp\n",
    "from mdtraj.utils import timing\n",
    "from msmbuilder.cluster import NDGrid\n",
    "from msmbuilder.example_datasets import QuadWell\n",
    "from msmbuilder.msm import BayesianMarkovStateModel\n",
    "from msmbuilder.msm import ContinuousTimeMSM"
   ]
  },
  {
   "cell_type": "markdown",
   "metadata": {},
   "source": [
    "For this example, we'll run some Brownian dynamics simulations of a 1D system with 4\n",
    "metastable states. The potential energy function is\n",
    "\n",
    "$$V = 4(x^8 + 0.8 \\exp(-80 x^2) + 0.2 \\exp(-80 (x-0.5)^2) + 0.5 \\exp(-40 (x+0.5)^2)).$$"
   ]
  },
  {
   "cell_type": "code",
   "execution_count": null,
   "metadata": {
    "collapsed": false
   },
   "outputs": [],
   "source": [
    "n_states = 25\n",
    "lag_time = 10\n",
    "quadwell = QuadWell(random_state=0)\n",
    "seqs = NDGrid(n_states).fit_transform(quadwell.get()['trajectories'])\n",
    "print(seqs[0])"
   ]
  },
  {
   "cell_type": "markdown",
   "metadata": {},
   "source": [
    "We fit two models:\n",
    " - The first model is a `ContinuousTimeMSM`, which estimates the transition rates between the states using maximum likelihood and quantitifies its uncertainty using a Normal approximation.\n",
    " - The second model, `BayesianMarkovStateModel`, estimates an ensemble of discrete-time Markov models, using MCMC sampling of the transition matrix likelihood surface, using a sampler described in _P. Metzner, F. Noe and C. Schutte, Phys. Rev. E_ 80 021106 (2009).\n",
    " \n",
    "For the error bars, the `BayesianMarkovStateModel` is something of a 'gold-standard', but it can be difficult utilize because it's pretty slow, and tuning the number of chains, number of samples, and number of steps between each sample is important to\n",
    "get accurate results. The `ContinuousTimeMSM` on the other hand is not stochastic, and much faster."
   ]
  },
  {
   "cell_type": "code",
   "execution_count": null,
   "metadata": {
    "collapsed": false
   },
   "outputs": [],
   "source": [
    "with timing('ContinuousTimeMSM'):\n",
    "    rates_model = ContinuousTimeMSM(lag_time=lag_time,).fit(seqs)\n",
    "with timing('BayesianMarkovStateModel'):\n",
    "    # generating 1000 samples from the distribution, using 2e4 steps between samples\n",
    "    # to ensure that they're decorrelated\n",
    "    bayes_model = BayesianMarkovStateModel(lag_time=lag_time, n_samples=int(1e3), n_steps=1e4).fit(seqs)"
   ]
  },
  {
   "cell_type": "markdown",
   "metadata": {},
   "source": [
    "In order to obtain reliable data from the samples produced by `BayesianMarkovStateModel`, we need to make sure\n",
    "that the chain is well-mixed. Visually, we can start by looking at a trace of some property of the model (e.g.\n",
    "the longest releaxation timescale) over the iterations of the sampler."
   ]
  },
  {
   "cell_type": "code",
   "execution_count": null,
   "metadata": {
    "collapsed": false
   },
   "outputs": [],
   "source": [
    "pp.plot(bayes_model.all_timescales_[:, 0])\n",
    "pp.xlabel('Iteration')\n",
    "pp.ylabel('Releaxation timescale')"
   ]
  },
  {
   "cell_type": "markdown",
   "metadata": {},
   "source": [
    "You can see that the timeseries of the longest relaxation process is auto-correlated, which means that we need to take care\n",
    "when drawing inferences from the mean and standard deviation of the samples, since it might not be fully equilibrated.\n",
    "\n",
    "\n",
    "Now, lets plot a comparison of the two models. First, we look at the populations vector, the stationary distribution of\n",
    "the models. This proportional to the log of the free energy of the states."
   ]
  },
  {
   "cell_type": "code",
   "execution_count": null,
   "metadata": {
    "collapsed": false
   },
   "outputs": [],
   "source": [
    "pp.figure(figsize=(14,4))\n",
    "pp.grid(False)\n",
    "\n",
    "# SUBPLOT 1. ContinuousTimeMSM\n",
    "pp.subplot(1,3,1, axisbg='white')\n",
    "# the mean and 2-std error bars in the populations\n",
    "rates_mean = rates_model.populations_\n",
    "rates_err = 2*rates_model.uncertainty_pi()\n",
    "pp.errorbar(x=np.arange(n_states), y=rates_mean, yerr=rates_err, color='b')\n",
    "pp.fill_between(x=np.arange(n_states), y1=rates_mean+rates_err, y2=rates_mean-rates_err, color='b', alpha=0.2)\n",
    "pp.title('MLE continuous-time MSM')\n",
    "pp.xlabel('States')\n",
    "pp.ylabel('Populations')\n",
    "\n",
    "# SUBPLOT 2. ContinuousTimeMSM\n",
    "pp.subplot(1,3,2, axisbg='white')\n",
    "# the mean and 2-std error bars in the populations, from\n",
    "# averaging over the MCMC samples\n",
    "bayes_mean = np.mean(bayes_model.all_populations_, axis=0)\n",
    "bayes_err = 2*np.std(bayes_model.all_populations_, axis=0)\n",
    "pp.errorbar(x=np.arange(n_states), y=bayes_mean, yerr=bayes_err, c='r')\n",
    "pp.fill_between(x=np.arange(n_states), y1=bayes_mean+bayes_err, y2=bayes_mean-bayes_err, color='r', alpha=0.2)\n",
    "pp.title('Bayesian discrete-time MSM (MCMC)')\n",
    "pp.xlabel('States')\n",
    "pp.ylabel('Populations')\n",
    "\n",
    "# SUBPLOT3. Potential energy\n",
    "pp.subplot(1,3,3, axisbg='white')\n",
    "pp.title('Potential energy surface')\n",
    "pp.xlabel('Position')\n",
    "pp.ylabel('Potential')\n",
    "# the potential function\n",
    "potential_x = np.linspace(-1, 1, 200)\n",
    "V = quadwell.potential(potential_x)\n",
    "pp.plot(potential_x, V, 'k')\n",
    "\n",
    "pp.tight_layout()"
   ]
  },
  {
   "cell_type": "markdown",
   "metadata": {},
   "source": [
    "We can also look at the three longest relaxation timescales, and their uncertainty."
   ]
  },
  {
   "cell_type": "code",
   "execution_count": null,
   "metadata": {
    "collapsed": false
   },
   "outputs": [],
   "source": [
    "def plot_bars(timescales, sigma_ts):\n",
    "    pp.xticks([])\n",
    "    for t, s in zip(timescales, sigma_ts):\n",
    "        pp.errorbar([0, 1], [t, t], c='k')\n",
    "        pp.fill_between([0, 1], y1=[t-s, t-s], y2=[t+s, t+s], color='b', alpha=0.2)\n",
    "        pp.fill_between([0, 1], y1=[t-2*s, t-2*s], y2=[t+2*s, t+2*s], color='b', alpha=0.1)\n",
    "\n",
    "\n",
    "pp.subplot(1,3,1, axisbg='white')\n",
    "pp.ylabel('Releaxation timescales')\n",
    "pp.title('Continuous-time\\nMSM')\n",
    "pp.ylim(0, 900)\n",
    "plot_bars(rates_model.timescales_[:3], rates_model.uncertainty_timescales()[:3])\n",
    "\n",
    "pp.subplot(1,3,2, axisbg='white')\n",
    "pp.title('Bayesian discrete\\n-time MSM')\n",
    "pp.ylim(0, 900)\n",
    "plot_bars(np.mean(bayes_model.all_timescales_, axis=0)[:3], np.std(bayes_model.all_timescales_, axis=0)[:3])\n",
    "\n",
    "pp.tight_layout()"
   ]
  }
 ],
 "metadata": {
  "kernelspec": {
   "display_name": "Python 3",
   "language": "python",
   "name": "python3"
  },
  "language_info": {
   "codemirror_mode": {
    "name": "ipython",
    "version": 3
   },
   "file_extension": ".py",
   "mimetype": "text/x-python",
   "name": "python",
   "nbconvert_exporter": "python",
   "pygments_lexer": "ipython3",
   "version": "3.4.3"
  }
 },
 "nbformat": 4,
 "nbformat_minor": 0
}
