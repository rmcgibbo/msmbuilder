{
 "cells": [
  {
   "cell_type": "code",
   "execution_count": null,
   "metadata": {
    "collapsed": false
   },
   "outputs": [],
   "source": [
    "%matplotlib inline\n",
    "import numpy as np\n",
    "from matplotlib import pyplot as plt\n",
    "from msmbuilder.example_datasets import QuadWell, quadwell_eigs\n",
    "from msmbuilder.cluster import NDGrid\n",
    "from msmbuilder.msm import MarkovStateModel\n",
    "from sklearn.pipeline import Pipeline"
   ]
  },
  {
   "cell_type": "code",
   "execution_count": null,
   "metadata": {
    "collapsed": false
   },
   "outputs": [],
   "source": [
    "dataset = QuadWell(random_state=0).get()\n",
    "true_eigenvalues = quadwell_eigs(200)[0]\n",
    "true_timescales = -1 / np.log(true_eigenvalues[1:])\n",
    "print(QuadWell.description())"
   ]
  },
  {
   "cell_type": "code",
   "execution_count": null,
   "metadata": {
    "collapsed": false
   },
   "outputs": [],
   "source": [
    "def msm_timescales(trajectories, n_states):\n",
    "    pipeline = Pipeline([\n",
    "        ('grid', NDGrid(min=-1.2, max=1.2)),\n",
    "        ('msm', MarkovStateModel(n_timescales=4, reversible_type='transpose', verbose=False))\n",
    "    ])\n",
    "    pipeline.set_params(grid__n_bins_per_feature=n_states)\n",
    "    pipeline.fit(trajectories)\n",
    "    return pipeline.named_steps['msm'].timescales_\n",
    "\n",
    "n_states = [5, 10, 50, 100]\n",
    "ts = np.array([msm_timescales(dataset.trajectories, n) for n in n_states])"
   ]
  },
  {
   "cell_type": "code",
   "execution_count": null,
   "metadata": {
    "collapsed": false
   },
   "outputs": [],
   "source": [
    "for i, c in enumerate(['b', 'r', 'm']):\n",
    "    plt.plot(n_states, ts[:, i], c=c, marker='x')\n",
    "    plt.axhline(true_timescales[i], ls='--', c=c, lw=2)\n",
    "\n",
    "plt.xlabel('Number of states')\n",
    "plt.ylabel('Timescale (steps)')\n",
    "plt.show()"
   ]
  }
 ],
 "metadata": {
  "kernelspec": {
   "display_name": "Python 3",
   "language": "python",
   "name": "python3"
  },
  "language_info": {
   "codemirror_mode": {
    "name": "ipython",
    "version": 3
   },
   "file_extension": ".py",
   "mimetype": "text/x-python",
   "name": "python",
   "nbconvert_exporter": "python",
   "pygments_lexer": "ipython3",
   "version": "3.4.3"
  }
 },
 "nbformat": 4,
 "nbformat_minor": 0
}
