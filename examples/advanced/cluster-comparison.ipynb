{
 "cells": [
  {
   "cell_type": "code",
   "execution_count": null,
   "metadata": {
    "collapsed": false
   },
   "outputs": [],
   "source": [
    "import time\n",
    "\n",
    "%matplotlib inline\n",
    "import numpy as np\n",
    "import matplotlib.pyplot as plt\n",
    "\n",
    "from msmbuilder import cluster\n",
    "from sklearn import datasets\n",
    "from sklearn.preprocessing import StandardScaler\n",
    "\n",
    "np.random.seed(0)"
   ]
  },
  {
   "cell_type": "code",
   "execution_count": null,
   "metadata": {
    "collapsed": false
   },
   "outputs": [],
   "source": [
    "# Generate datasets. We choose the size big enough to see the scalability\n",
    "# of the algorithms, but not too big to avoid too long running times\n",
    "n_samples = 2500\n",
    "noisy_circles = datasets.make_circles(n_samples=n_samples, factor=.5,\n",
    "                                      noise=.05)\n",
    "noisy_moons = datasets.make_moons(n_samples=n_samples, noise=.05)\n",
    "#blobs = datasets.make_blobs(n_samples=n_samples, random_state=8)\n",
    "blobs = np.concatenate([\n",
    "    np.array([[0,-1]]) + 0.5 * np.random.randn(n_samples/3, 2),\n",
    "    np.array([[5, 0]]) + 0.1 * np.random.randn(n_samples/3, 2),\n",
    "    np.array([[0, 5]]) + 2.0 * np.random.randn(n_samples/3, 2),\n",
    "\n",
    "]), None\n",
    "\n",
    "no_structure = np.random.rand(n_samples, 2), None\n",
    "\n",
    "colors = np.array([x for x in 'bgrcmykbgrcmykbgrcmykbgrcmyk'])\n",
    "colors = np.hstack([colors] * 20)"
   ]
  },
  {
   "cell_type": "code",
   "execution_count": null,
   "metadata": {
    "collapsed": false
   },
   "outputs": [],
   "source": [
    "plt.figure(figsize=(14.5, 9.5))\n",
    "plt.subplots_adjust(left=.001, right=.999, bottom=.001, top=.96, wspace=.05,\n",
    "                    hspace=.01)\n",
    "\n",
    "plot_num = 1\n",
    "for i_dataset, dataset in enumerate([noisy_circles, noisy_moons, blobs,\n",
    "                                     no_structure]):\n",
    "    X, y = dataset\n",
    "    # normalize dataset for easier parameter selection\n",
    "    X = StandardScaler().fit_transform(X)\n",
    "\n",
    "\n",
    "    # create clustering estimators\n",
    "    kcenters = cluster.KCenters(n_clusters=3)\n",
    "    rs = cluster.RegularSpatial(d_min=2)\n",
    "    kmeans = cluster.KMeans(n_clusters=3)\n",
    "    kmeans2 = cluster.MiniBatchKMeans(n_clusters=3)\n",
    "    kmedoids = cluster.KMedoids(n_clusters=3)\n",
    "    kmedoids2 = cluster.MiniBatchKMedoids(n_clusters=3)\n",
    "    \n",
    "    for name, algorithm in [\n",
    "                            ('KCenters', kcenters),\n",
    "                            ('RegularSpatial', rs),\n",
    "                            ('KMeans', kmeans),\n",
    "                            ('MiniBatchKMeans', kmeans2),\n",
    "                            ('KMedoids', kmedoids),\n",
    "                            ('MiniBatchKMedoids', kmedoids2)\n",
    "                           ]:\n",
    "        # predict cluster memberships\n",
    "        t0 = time.time()\n",
    "        algorithm.fit([X])\n",
    "        t1 = time.time()\n",
    "        if hasattr(algorithm, 'labels_'):\n",
    "            y_pred = algorithm.labels_[0].astype(np.int)\n",
    "        else:\n",
    "            y_pred = algorithm.predict([X])[0]\n",
    "\n",
    "        # plot\n",
    "        plt.subplot(4, 6, plot_num)\n",
    "        if i_dataset == 0:\n",
    "            plt.title(name, size=18)\n",
    "        plt.scatter(X[:, 0], X[:, 1], color=colors[y_pred].tolist(), s=6)\n",
    "\n",
    "        if hasattr(algorithm, 'cluster_centers_'):\n",
    "            centers = algorithm.cluster_centers_\n",
    "            center_colors = colors[:len(centers)]\n",
    "            plt.scatter(centers[:, 0], centers[:, 1], s=100, c=center_colors)\n",
    "        plt.xlim(-2, 2)\n",
    "        plt.ylim(-2, 2)\n",
    "        plt.xticks(())\n",
    "        plt.yticks(())\n",
    "        plt.text(.99, .01, ('%.2fs' % (t1 - t0)).lstrip('0'),\n",
    "                 transform=plt.gca().transAxes, size=20,\n",
    "                 horizontalalignment='right')\n",
    "        plot_num += 1"
   ]
  },
  {
   "cell_type": "code",
   "execution_count": null,
   "metadata": {
    "collapsed": true
   },
   "outputs": [],
   "source": []
  }
 ],
 "metadata": {
  "kernelspec": {
   "display_name": "Python 3",
   "language": "python",
   "name": "python3"
  },
  "language_info": {
   "codemirror_mode": {
    "name": "ipython",
    "version": 3
   },
   "file_extension": ".py",
   "mimetype": "text/x-python",
   "name": "python",
   "nbconvert_exporter": "python",
   "pygments_lexer": "ipython3",
   "version": "3.4.3"
  }
 },
 "nbformat": 4,
 "nbformat_minor": 0
}
