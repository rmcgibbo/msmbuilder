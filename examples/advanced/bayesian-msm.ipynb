{
 "cells": [
  {
   "cell_type": "markdown",
   "metadata": {},
   "source": [
    "# `BayesianMarkovStateModel`\n",
    "\n",
    "This example demonstrates the class `BayesianMarkovStateModel`, which uses Metropolis Markov chain Monte Carlo (MCMC) to sample\n",
    "over the posterior distribution of transition matrices, given the observed transitions in your dataset. This can be useful\n",
    "for evaluating the uncertainty due to sampling in your dataset."
   ]
  },
  {
   "cell_type": "code",
   "execution_count": null,
   "metadata": {
    "collapsed": false
   },
   "outputs": [],
   "source": [
    "%matplotlib inline\n",
    "import numpy as np\n",
    "from matplotlib import pyplot as plt\n",
    "from mdtraj.utils import timing\n",
    "from msmbuilder.example_datasets import load_doublewell\n",
    "from msmbuilder.cluster import NDGrid\n",
    "from msmbuilder.msm import BayesianMarkovStateModel, MarkovStateModel"
   ]
  },
  {
   "cell_type": "markdown",
   "metadata": {},
   "source": [
    "## Load some double-well data"
   ]
  },
  {
   "cell_type": "code",
   "execution_count": null,
   "metadata": {
    "collapsed": false
   },
   "outputs": [],
   "source": [
    "trjs = load_doublewell(random_state=0)['trajectories']\n",
    "plt.hist(np.concatenate(trjs), bins=50, log=True)\n",
    "plt.ylabel('Frequency')\n",
    "plt.show()"
   ]
  },
  {
   "cell_type": "markdown",
   "metadata": {},
   "source": [
    "## We'll discretize the space using 10 states\n",
    "\n",
    "And the build one MSM using the MLE transition matrix estimator, and one with the Bayesian estimator"
   ]
  },
  {
   "cell_type": "code",
   "execution_count": null,
   "metadata": {
    "collapsed": false
   },
   "outputs": [],
   "source": [
    "clusterer = NDGrid(n_bins_per_feature=10)\n",
    "mle_msm = MarkovStateModel(lag_time=100)\n",
    "b_msm = BayesianMarkovStateModel(lag_time=100, n_samples=10000, n_steps=1000)\n",
    "\n",
    "states = clusterer.fit_transform(trjs)\n",
    "with timing('running mcmc'):\n",
    "    b_msm.fit(states)\n",
    "\n",
    "mle_msm.fit(states)"
   ]
  },
  {
   "cell_type": "code",
   "execution_count": null,
   "metadata": {
    "collapsed": false
   },
   "outputs": [],
   "source": [
    "plt.subplot(2, 1, 1)\n",
    "plt.plot(b_msm.all_transmats_[:, 0, 0])\n",
    "plt.axhline(mle_msm.transmat_[0, 0], c='k')\n",
    "plt.ylabel('t_00')\n",
    "\n",
    "plt.subplot(2, 1, 2)\n",
    "plt.ylabel('t_23')\n",
    "plt.xlabel('MCMC Iteration')\n",
    "plt.plot(b_msm.all_transmats_[:, 2, 3])\n",
    "plt.axhline(mle_msm.transmat_[2, 3], c='k')\n",
    "plt.show()"
   ]
  },
  {
   "cell_type": "code",
   "execution_count": null,
   "metadata": {
    "collapsed": false
   },
   "outputs": [],
   "source": [
    "plt.plot(b_msm.all_timescales_[:, 0], label='MCMC')\n",
    "plt.axhline(mle_msm.timescales_[0], c='k', label='MLE')\n",
    "plt.legend(loc='best')\n",
    "plt.ylabel('Longest timescale')\n",
    "plt.xlabel('MCMC iteration')\n",
    "plt.show()"
   ]
  },
  {
   "cell_type": "markdown",
   "metadata": {},
   "source": [
    "# Now lets try using 50 states\n",
    "\n",
    "The MCMC sampling is a lot harder to converge"
   ]
  },
  {
   "cell_type": "code",
   "execution_count": null,
   "metadata": {
    "collapsed": false
   },
   "outputs": [],
   "source": [
    "clusterer = NDGrid(n_bins_per_feature=50)\n",
    "mle_msm = MarkovStateModel(lag_time=100)\n",
    "b_msm = BayesianMarkovStateModel(lag_time=100, n_samples=1000, n_steps=100000)\n",
    "\n",
    "states = clusterer.fit_transform(trjs)\n",
    "with timing('running mcmc (50 states)'):\n",
    "    b_msm.fit(states)\n",
    "\n",
    "mle_msm.fit(states)"
   ]
  },
  {
   "cell_type": "code",
   "execution_count": null,
   "metadata": {
    "collapsed": false
   },
   "outputs": [],
   "source": [
    "plt.plot(b_msm.all_timescales_[:, 0], label='MCMC')\n",
    "plt.axhline(mle_msm.timescales_[0], c='k', label='MLE')\n",
    "plt.legend(loc='best')\n",
    "plt.ylabel('Longest timescale')\n",
    "plt.xlabel('MCMC iteration')"
   ]
  },
  {
   "cell_type": "code",
   "execution_count": null,
   "metadata": {
    "collapsed": false
   },
   "outputs": [],
   "source": [
    "plt.plot(b_msm.all_transmats_[:, 0, 0], label='MCMC')\n",
    "plt.axhline(mle_msm.transmat_[0, 0], c='k', label='MLE')\n",
    "plt.legend(loc='best')\n",
    "plt.ylabel('t_00')\n",
    "plt.xlabel('MCMC iteration')"
   ]
  },
  {
   "cell_type": "code",
   "execution_count": null,
   "metadata": {
    "collapsed": true
   },
   "outputs": [],
   "source": []
  }
 ],
 "metadata": {
  "kernelspec": {
   "display_name": "Python 3",
   "language": "python",
   "name": "python3"
  },
  "language_info": {
   "codemirror_mode": {
    "name": "ipython",
    "version": 3
   },
   "file_extension": ".py",
   "mimetype": "text/x-python",
   "name": "python",
   "nbconvert_exporter": "python",
   "pygments_lexer": "ipython3",
   "version": "3.4.3"
  }
 },
 "nbformat": 4,
 "nbformat_minor": 0
}
