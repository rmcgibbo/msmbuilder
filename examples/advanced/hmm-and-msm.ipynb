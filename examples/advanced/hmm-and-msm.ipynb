{
 "cells": [
  {
   "cell_type": "markdown",
   "metadata": {},
   "source": [
    "This example builds HMM and MSMs on the alanine_dipeptide dataset using varing lag times\n",
    "and numbers of states, and compares the relaxation timescales\n"
   ]
  },
  {
   "cell_type": "code",
   "execution_count": null,
   "metadata": {
    "collapsed": false
   },
   "outputs": [],
   "source": [
    "from __future__ import print_function\n",
    "import os\n",
    "%matplotlib inline\n",
    "from matplotlib.pyplot import *\n",
    "from msmbuilder.featurizer import SuperposeFeaturizer\n",
    "from msmbuilder.example_datasets import AlanineDipeptide\n",
    "from msmbuilder.hmm import GaussianHMM\n",
    "from msmbuilder.cluster import KCenters\n",
    "from msmbuilder.msm import MarkovStateModel"
   ]
  },
  {
   "cell_type": "markdown",
   "metadata": {},
   "source": [
    "## First: load and \"featurize\"\n",
    "\n",
    "Featurization refers to the process of converting the conformational\n",
    "snapshots from your MD trajectories into vectors in some space $\\mathbb{R}^N$ that can be manipulated and modeled by subsequent analyses. The Gaussian HMM, for instance, uses Gaussian emission distributions, so it models the trajectory as a time-dependent\n",
    "mixture of multivariate Gaussians.\n",
    "\n",
    "In general, the featurization is somewhat of an art. For this example, we're using Mixtape's `SuperposeFeaturizer`, which superposes each snapshot onto a reference frame (`trajectories[0][0]` in this example), and then measure the distance from each\n",
    "atom to its position in the reference conformation as the 'feature'"
   ]
  },
  {
   "cell_type": "code",
   "execution_count": null,
   "metadata": {
    "collapsed": false
   },
   "outputs": [],
   "source": [
    "print(AlanineDipeptide.description())\n",
    "\n",
    "dataset = AlanineDipeptide().get()\n",
    "trajectories = dataset.trajectories\n",
    "topology = trajectories[0].topology\n",
    "\n",
    "indices = [atom.index for atom in topology.atoms if atom.element.symbol in ['C', 'O', 'N']]\n",
    "featurizer = SuperposeFeaturizer(indices, trajectories[0][0])\n",
    "sequences = featurizer.transform(trajectories)"
   ]
  },
  {
   "cell_type": "markdown",
   "metadata": {},
   "source": [
    "### Now `sequences` is our featurized data."
   ]
  },
  {
   "cell_type": "code",
   "execution_count": null,
   "metadata": {
    "collapsed": false
   },
   "outputs": [],
   "source": [
    "lag_times = [1, 10, 20, 30, 40]\n",
    "hmm_ts0 = {}\n",
    "hmm_ts1 = {}\n",
    "n_states = [3, 5]\n",
    "\n",
    "for n in n_states:\n",
    "    hmm_ts0[n] = []\n",
    "    hmm_ts1[n] = []\n",
    "    for lag_time in lag_times:\n",
    "        strided_data = [s[i::lag_time] for s in sequences for i in range(lag_time)]\n",
    "        hmm = GaussianHMM(n_states=n, n_init=1).fit(strided_data)\n",
    "        timescales = hmm.timescales_ * lag_time\n",
    "        hmm_ts0[n].append(timescales[0])\n",
    "        hmm_ts1[n].append(timescales[1])\n",
    "        print('n_states=%d\\tlag_time=%d\\ttimescales=%s' % (n, lag_time, timescales))\n",
    "    print()"
   ]
  },
  {
   "cell_type": "code",
   "execution_count": null,
   "metadata": {
    "collapsed": false
   },
   "outputs": [],
   "source": [
    "figure(figsize=(14,3))\n",
    "\n",
    "for i, n in enumerate(n_states):\n",
    "    subplot(1,len(n_states),1+i)\n",
    "    plot(lag_times, hmm_ts0[n])\n",
    "    plot(lag_times, hmm_ts1[n])\n",
    "    if i == 0:\n",
    "        ylabel('Relaxation Timescale')\n",
    "    xlabel('Lag Time')\n",
    "    title('%d states' % n)\n",
    "\n",
    "show()"
   ]
  },
  {
   "cell_type": "code",
   "execution_count": null,
   "metadata": {
    "collapsed": false
   },
   "outputs": [],
   "source": [
    "msmts0, msmts1 = {}, {}\n",
    "lag_times = [1, 10, 20, 30, 40]\n",
    "n_states = [4, 8, 16, 32, 64]\n",
    "\n",
    "for n in n_states:\n",
    "    msmts0[n] = []\n",
    "    msmts1[n] = []\n",
    "    for lag_time in lag_times:\n",
    "        assignments = KCenters(n_clusters=n).fit_predict(sequences)\n",
    "        msm = MarkovStateModel(lag_time=lag_time, verbose=False).fit(assignments)\n",
    "        timescales = msm.timescales_\n",
    "        msmts0[n].append(timescales[0])\n",
    "        msmts1[n].append(timescales[1])\n",
    "        print('n_states=%d\\tlag_time=%d\\ttimescales=%s' % (n, lag_time, timescales[0:2]))\n",
    "    print()"
   ]
  },
  {
   "cell_type": "code",
   "execution_count": null,
   "metadata": {
    "collapsed": false
   },
   "outputs": [],
   "source": [
    "figure(figsize=(14,3))\n",
    "\n",
    "for i, n in enumerate(n_states):\n",
    "    subplot(1,len(n_states),1+i)\n",
    "    plot(lag_times, msmts0[n])\n",
    "    plot(lag_times, msmts1[n])\n",
    "    if i == 0:\n",
    "        ylabel('Relaxation Timescale')\n",
    "    xlabel('Lag Time')\n",
    "    title('%d states' % n)\n",
    "\n",
    "show()"
   ]
  },
  {
   "cell_type": "code",
   "execution_count": null,
   "metadata": {
    "collapsed": true
   },
   "outputs": [],
   "source": []
  }
 ],
 "metadata": {
  "kernelspec": {
   "display_name": "Python 3",
   "language": "python",
   "name": "python3"
  },
  "language_info": {
   "codemirror_mode": {
    "name": "ipython",
    "version": 3
   },
   "file_extension": ".py",
   "mimetype": "text/x-python",
   "name": "python",
   "nbconvert_exporter": "python",
   "pygments_lexer": "ipython3",
   "version": "3.4.3"
  }
 },
 "nbformat": 4,
 "nbformat_minor": 0
}
